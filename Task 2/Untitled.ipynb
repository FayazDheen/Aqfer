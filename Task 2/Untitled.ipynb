{
 "cells": [
  {
   "cell_type": "code",
   "execution_count": 1,
   "id": "impossible-happiness",
   "metadata": {},
   "outputs": [
    {
     "name": "stdout",
     "output_type": "stream",
     "text": [
      "['Tamil Nadu', 'Chennai']\n",
      "['Kerala', 'Palakkad']\n",
      "['Karnataka', 'Bangalore']\n",
      "['Kerala', 'Kochi']\n",
      "['Tamil Nadu', 'Trichy']\n"
     ]
    }
   ],
   "source": [
    "import csv\n",
    "with open('input file.csv', 'r') as file:\n",
    "    reader = csv.reader(file)\n",
    "    for row in reader:\n",
    "        print(row)"
   ]
  },
  {
   "cell_type": "code",
   "execution_count": 6,
   "id": "gothic-angle",
   "metadata": {},
   "outputs": [
    {
     "data": {
      "text/plain": [
       "_csv.reader"
      ]
     },
     "execution_count": 6,
     "metadata": {},
     "output_type": "execute_result"
    }
   ],
   "source": [
    "type(reader)"
   ]
  },
  {
   "cell_type": "code",
   "execution_count": 7,
   "id": "fiscal-buffalo",
   "metadata": {},
   "outputs": [
    {
     "data": {
      "text/plain": [
       "_io.TextIOWrapper"
      ]
     },
     "execution_count": 7,
     "metadata": {},
     "output_type": "execute_result"
    }
   ],
   "source": [
    "type(file)\n",
    "\n"
   ]
  },
  {
   "cell_type": "code",
   "execution_count": 8,
   "id": "rubber-sapphire",
   "metadata": {},
   "outputs": [
    {
     "data": {
      "text/plain": [
       "list"
      ]
     },
     "execution_count": 8,
     "metadata": {},
     "output_type": "execute_result"
    }
   ],
   "source": [
    "type(row)"
   ]
  },
  {
   "cell_type": "code",
   "execution_count": 12,
   "id": "prepared-court",
   "metadata": {},
   "outputs": [
    {
     "ename": "ValueError",
     "evalue": "I/O operation on closed file.",
     "output_type": "error",
     "traceback": [
      "\u001b[1;31m---------------------------------------------------------------------------\u001b[0m",
      "\u001b[1;31mValueError\u001b[0m                                Traceback (most recent call last)",
      "\u001b[1;32m<ipython-input-12-eadc576008e6>\u001b[0m in \u001b[0;36m<module>\u001b[1;34m\u001b[0m\n\u001b[0;32m      6\u001b[0m \u001b[1;33m\u001b[0m\u001b[0m\n\u001b[0;32m      7\u001b[0m \u001b[0munique_list\u001b[0m \u001b[1;33m=\u001b[0m \u001b[1;33m[\u001b[0m\u001b[1;33m]\u001b[0m\u001b[1;33m\u001b[0m\u001b[1;33m\u001b[0m\u001b[0m\n\u001b[1;32m----> 8\u001b[1;33m \u001b[1;32mfor\u001b[0m \u001b[0mrow\u001b[0m \u001b[1;32min\u001b[0m \u001b[0mreader\u001b[0m\u001b[1;33m:\u001b[0m\u001b[1;33m\u001b[0m\u001b[1;33m\u001b[0m\u001b[0m\n\u001b[0m\u001b[0;32m      9\u001b[0m \u001b[1;33m\u001b[0m\u001b[0m\n\u001b[0;32m     10\u001b[0m     \u001b[1;32mif\u001b[0m \u001b[0mrow\u001b[0m \u001b[1;32mnot\u001b[0m \u001b[1;32min\u001b[0m \u001b[0munique_list\u001b[0m\u001b[1;33m:\u001b[0m\u001b[1;33m\u001b[0m\u001b[1;33m\u001b[0m\u001b[0m\n",
      "\u001b[1;31mValueError\u001b[0m: I/O operation on closed file."
     ]
    }
   ],
   "source": [
    "from collections import Counter\n",
    "\n",
    "str1='the cat sat on the hat hat'\n",
    "\n",
    "int_list=str1.split();\n",
    "\n",
    "unique_list = []\n",
    "for row in reader:\n",
    "\n",
    "    if row not in unique_list:\n",
    "        unique_list.append(row)\n",
    "    else:\n",
    "        print (\"Element already in the list\")\n",
    "\n",
    "print (unique_list)\n",
    "\n",
    "c=Counter(reader)\n",
    "\n",
    "c.values()\n",
    "\n",
    "c.keys()\n",
    "\n",
    "print (c)"
   ]
  },
  {
   "cell_type": "code",
   "execution_count": 13,
   "id": "aboriginal-posting",
   "metadata": {},
   "outputs": [
    {
     "ename": "ValueError",
     "evalue": "I/O operation on closed file.",
     "output_type": "error",
     "traceback": [
      "\u001b[1;31m---------------------------------------------------------------------------\u001b[0m",
      "\u001b[1;31mValueError\u001b[0m                                Traceback (most recent call last)",
      "\u001b[1;32m<ipython-input-13-c857064edfc1>\u001b[0m in \u001b[0;36m<module>\u001b[1;34m\u001b[0m\n\u001b[0;32m      3\u001b[0m \u001b[1;32mwith\u001b[0m \u001b[0mopen\u001b[0m\u001b[1;33m(\u001b[0m\u001b[1;34m'input file.csv'\u001b[0m\u001b[1;33m,\u001b[0m \u001b[1;34m'r'\u001b[0m\u001b[1;33m)\u001b[0m \u001b[1;32mas\u001b[0m \u001b[0mfile\u001b[0m\u001b[1;33m:\u001b[0m\u001b[1;33m\u001b[0m\u001b[1;33m\u001b[0m\u001b[0m\n\u001b[0;32m      4\u001b[0m    \u001b[0munique_list\u001b[0m \u001b[1;33m=\u001b[0m \u001b[1;33m[\u001b[0m\u001b[1;33m]\u001b[0m\u001b[1;33m\u001b[0m\u001b[1;33m\u001b[0m\u001b[0m\n\u001b[1;32m----> 5\u001b[1;33m \u001b[1;32mfor\u001b[0m \u001b[0mrow\u001b[0m \u001b[1;32min\u001b[0m \u001b[0mreader\u001b[0m\u001b[1;33m:\u001b[0m\u001b[1;33m\u001b[0m\u001b[1;33m\u001b[0m\u001b[0m\n\u001b[0m\u001b[0;32m      6\u001b[0m \u001b[1;33m\u001b[0m\u001b[0m\n\u001b[0;32m      7\u001b[0m     \u001b[1;32mif\u001b[0m \u001b[0mrow\u001b[0m \u001b[1;32mnot\u001b[0m \u001b[1;32min\u001b[0m \u001b[0munique_list\u001b[0m\u001b[1;33m:\u001b[0m\u001b[1;33m\u001b[0m\u001b[1;33m\u001b[0m\u001b[0m\n",
      "\u001b[1;31mValueError\u001b[0m: I/O operation on closed file."
     ]
    }
   ],
   "source": [
    "import csv\n",
    "from collections import Counter\n",
    "with open('input file.csv', 'r') as file:\n",
    "   unique_list = []\n",
    "for row in reader:\n",
    "\n",
    "    if row not in unique_list:\n",
    "        unique_list.append(row)\n",
    "    else:\n",
    "        print (\"Element already in the list\")\n",
    "\n",
    "print (unique_list)\n",
    "\n",
    "c=Counter(reader)\n",
    "\n",
    "c.values()\n",
    "\n",
    "c.keys()\n",
    "\n",
    "print (c) "
   ]
  },
  {
   "cell_type": "code",
   "execution_count": 29,
   "id": "introductory-calgary",
   "metadata": {},
   "outputs": [
    {
     "name": "stdout",
     "output_type": "stream",
     "text": [
      "Tamil Nadu,Chennai;Trichy\n",
      "coimbatore;Tirupur\n",
      "Kerala,Kochi;Palakkad\n",
      "Karnataka;Bangalore\n"
     ]
    }
   ],
   "source": [
    "file1 = open(\"input file.csv\",\"r+\") \n",
    "d = dict()\n",
    "\n",
    "a=file1.readlines()\n",
    "\n",
    "for i in a:\n",
    "  temp=i.split(',')\n",
    "  d[temp[0]]=[]\n",
    "\n",
    "for i in a:\n",
    "  temp=i.split(',')\n",
    "\n",
    "  d[temp[0]].append(temp[1].strip())\n",
    "\n",
    "for i,j in d.items():\n",
    "  j=list(set(j))\n",
    "  if(len(j) == 1):\n",
    "    print(i,end=';')\n",
    "  else:\n",
    "     print(i,end=',')\n",
    "  while(len(j)):\n",
    "    if(len(j)-1>0):\n",
    "      print(j.pop(0),end=';')\n",
    "    print(j.pop(0))\n",
    "      \n"
   ]
  },
  {
   "cell_type": "code",
   "execution_count": 1,
   "id": "operating-token",
   "metadata": {},
   "outputs": [
    {
     "name": "stdout",
     "output_type": "stream",
     "text": [
      "Tamil Nadu,Chennai;Trichy\n",
      "Kerala,Palakkad;Kochi\n",
      "Karnataka;Bangalore\n"
     ]
    }
   ],
   "source": [
    "file1 = open(\"input file.csv\",\"r\") \n",
    "d = dict()\n",
    "a=file1.readlines()\n",
    "for i in a:\n",
    "  temp=i.split(',')\n",
    "  d[temp[0]]=[]\n",
    "for i in a:\n",
    "  temp=i.split(',')\n",
    "  d[temp[0]].append(temp[1].strip())\n",
    "for i,j in d.items():\n",
    "  j = list(set(j))\n",
    "  if(len(j) == 1):\n",
    "    print(i,end=';')\n",
    "  else:\n",
    "     print(i,end=',')\n",
    "  res = \"\"\n",
    "  while(len(j)):\n",
    "      res+=(j.pop(0)+\";\")\n",
    "  res = res[:-1]\n",
    "  print(res)\n"
   ]
  },
  {
   "cell_type": "code",
   "execution_count": null,
   "id": "descending-wrong",
   "metadata": {},
   "outputs": [],
   "source": []
  }
 ],
 "metadata": {
  "kernelspec": {
   "display_name": "Python 3",
   "language": "python",
   "name": "python3"
  },
  "language_info": {
   "codemirror_mode": {
    "name": "ipython",
    "version": 3
   },
   "file_extension": ".py",
   "mimetype": "text/x-python",
   "name": "python",
   "nbconvert_exporter": "python",
   "pygments_lexer": "ipython3",
   "version": "3.8.3"
  }
 },
 "nbformat": 4,
 "nbformat_minor": 5
}
