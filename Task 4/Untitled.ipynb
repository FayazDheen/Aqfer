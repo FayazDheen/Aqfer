{
 "cells": [
  {
   "cell_type": "code",
   "execution_count": 1,
   "id": "municipal-cream",
   "metadata": {},
   "outputs": [],
   "source": [
    "inputfile = open(\"input.txt\",\"r\")\n"
   ]
  },
  {
   "cell_type": "code",
   "execution_count": 2,
   "id": "fifth-filling",
   "metadata": {},
   "outputs": [
    {
     "name": "stdout",
     "output_type": "stream",
     "text": [
      "<_io.TextIOWrapper name='input.txt' mode='r' encoding='cp1252'>\n"
     ]
    }
   ],
   "source": [
    "print(inputfile)"
   ]
  },
  {
   "cell_type": "code",
   "execution_count": 3,
   "id": "characteristic-ultimate",
   "metadata": {},
   "outputs": [],
   "source": [
    "a = inputfile.readlines()"
   ]
  },
  {
   "cell_type": "code",
   "execution_count": 4,
   "id": "interior-hammer",
   "metadata": {},
   "outputs": [
    {
     "name": "stdout",
     "output_type": "stream",
     "text": [
      "['Aqfer offers the next generation enterprise data platform solution that enables\\n', 'companies to get to the truth about their customers and their data.\\n', 'Available positions:\\n', 'Product Developer - product@aqfer.com\\n', 'Mail us to info@aqfer.com to know more.\\n', 'Contact us at info@aqfer.com\\n', 'Visit us @ www.aqfer.com\\n']\n"
     ]
    }
   ],
   "source": [
    "print (a)"
   ]
  },
  {
   "cell_type": "code",
   "execution_count": 5,
   "id": "violent-testimony",
   "metadata": {},
   "outputs": [
    {
     "ename": "AttributeError",
     "evalue": "'str' object has no attribute 'decode'",
     "output_type": "error",
     "traceback": [
      "\u001b[1;31m---------------------------------------------------------------------------\u001b[0m",
      "\u001b[1;31mAttributeError\u001b[0m                            Traceback (most recent call last)",
      "\u001b[1;32m<ipython-input-5-1109c9d6966d>\u001b[0m in \u001b[0;36m<module>\u001b[1;34m\u001b[0m\n\u001b[0;32m      1\u001b[0m \u001b[1;32mimport\u001b[0m \u001b[0mre\u001b[0m\u001b[1;33m\u001b[0m\u001b[1;33m\u001b[0m\u001b[0m\n\u001b[0;32m      2\u001b[0m \u001b[1;32mfor\u001b[0m \u001b[0mline\u001b[0m \u001b[1;32min\u001b[0m \u001b[0ma\u001b[0m\u001b[1;33m:\u001b[0m\u001b[1;33m\u001b[0m\u001b[1;33m\u001b[0m\u001b[0m\n\u001b[1;32m----> 3\u001b[1;33m     \u001b[0ms\u001b[0m \u001b[1;33m=\u001b[0m \u001b[0mline\u001b[0m\u001b[1;33m.\u001b[0m\u001b[0mdecode\u001b[0m\u001b[1;33m(\u001b[0m\u001b[1;33m)\u001b[0m\u001b[1;33m.\u001b[0m\u001b[0mstrip\u001b[0m\u001b[1;33m\u001b[0m\u001b[1;33m\u001b[0m\u001b[0m\n\u001b[0m\u001b[0;32m      4\u001b[0m     reg = re.findall(r\"[A-Za-z0-9._%+-]+\"\n\u001b[0;32m      5\u001b[0m                      \u001b[1;34mr\"@[A-Za-z0-9.-]+\"\u001b[0m\u001b[1;33m\u001b[0m\u001b[1;33m\u001b[0m\u001b[0m\n",
      "\u001b[1;31mAttributeError\u001b[0m: 'str' object has no attribute 'decode'"
     ]
    }
   ],
   "source": [
    "import re\n",
    "for line in a:\n",
    "    s = line.decode().strip\n",
    "    reg = re.findall(r\"[A-Za-z0-9._%+-]+\"\n",
    "                     r\"@[A-Za-z0-9.-]+\"\n",
    "                     r\"\\.[A-Za-z]{2,4}\", s)\n",
    "    print(reg)"
   ]
  },
  {
   "cell_type": "code",
   "execution_count": 7,
   "id": "expanded-bonus",
   "metadata": {},
   "outputs": [
    {
     "name": "stdout",
     "output_type": "stream",
     "text": [
      "['contact@tutorialspoint.com', 'feedback@tp.com']\n"
     ]
    }
   ],
   "source": [
    "import re\n",
    "text = \"Please contact us at contact@tutorialspoint.com for further information.\"+\\\n",
    "        \" You can also give feedbacl at feedback@tp.com\"\n",
    "\n",
    "\n",
    "emails = re.findall(r\"[a-z0-9\\.\\-+_]+@[a-z0-9\\.\\-+_]+\\.[a-z]+\", text)\n",
    "print (emails)"
   ]
  },
  {
   "cell_type": "code",
   "execution_count": 18,
   "id": "quality-interference",
   "metadata": {},
   "outputs": [],
   "source": [
    "import re\n",
    "inputfile = open(\"input.txt\",\"r\")\n",
    "a = inputfile.readlines()\n",
    "\n"
   ]
  },
  {
   "cell_type": "code",
   "execution_count": 17,
   "id": "congressional-landscape",
   "metadata": {},
   "outputs": [
    {
     "name": "stdout",
     "output_type": "stream",
     "text": [
      "['product@aqfer.com', 'info@aqfer.com', 'info@aqfer.com']\n"
     ]
    }
   ],
   "source": [
    "def listToString(a): \n",
    "    str1 = \"\" \n",
    "    for ele in a: \n",
    "        str1 += ele  \n",
    "    return str1 \n",
    "string = listToString(a)\n",
    "# print(string)\n",
    "\n",
    "\n",
    "emails = re.findall(r\"[a-z0-9\\.\\-+_]+@[a-z0-9\\.\\-+_]+\\.[a-z]+\", string)\n",
    "print (emails)"
   ]
  },
  {
   "cell_type": "code",
   "execution_count": 12,
   "id": "verified-planet",
   "metadata": {},
   "outputs": [
    {
     "ename": "TypeError",
     "evalue": "expected string or bytes-like object",
     "output_type": "error",
     "traceback": [
      "\u001b[1;31m---------------------------------------------------------------------------\u001b[0m",
      "\u001b[1;31mTypeError\u001b[0m                                 Traceback (most recent call last)",
      "\u001b[1;32m<ipython-input-12-80e797bcfe63>\u001b[0m in \u001b[0;36m<module>\u001b[1;34m\u001b[0m\n\u001b[1;32m----> 1\u001b[1;33m \u001b[0memails\u001b[0m \u001b[1;33m=\u001b[0m \u001b[0mre\u001b[0m\u001b[1;33m.\u001b[0m\u001b[0mfindall\u001b[0m\u001b[1;33m(\u001b[0m\u001b[1;34mr\"[a-z0-9\\.\\-+_]+@[a-z0-9\\.\\-+_]+\\.[a-z]+\"\u001b[0m\u001b[1;33m,\u001b[0m \u001b[0ma\u001b[0m\u001b[1;33m)\u001b[0m\u001b[1;33m\u001b[0m\u001b[1;33m\u001b[0m\u001b[0m\n\u001b[0m\u001b[0;32m      2\u001b[0m \u001b[0mprint\u001b[0m \u001b[1;33m(\u001b[0m\u001b[0memails\u001b[0m\u001b[1;33m)\u001b[0m\u001b[1;33m\u001b[0m\u001b[1;33m\u001b[0m\u001b[0m\n",
      "\u001b[1;32mc:\\users\\fayaz\\appdata\\local\\programs\\python\\python38\\lib\\re.py\u001b[0m in \u001b[0;36mfindall\u001b[1;34m(pattern, string, flags)\u001b[0m\n\u001b[0;32m    239\u001b[0m \u001b[1;33m\u001b[0m\u001b[0m\n\u001b[0;32m    240\u001b[0m     Empty matches are included in the result.\"\"\"\n\u001b[1;32m--> 241\u001b[1;33m     \u001b[1;32mreturn\u001b[0m \u001b[0m_compile\u001b[0m\u001b[1;33m(\u001b[0m\u001b[0mpattern\u001b[0m\u001b[1;33m,\u001b[0m \u001b[0mflags\u001b[0m\u001b[1;33m)\u001b[0m\u001b[1;33m.\u001b[0m\u001b[0mfindall\u001b[0m\u001b[1;33m(\u001b[0m\u001b[0mstring\u001b[0m\u001b[1;33m)\u001b[0m\u001b[1;33m\u001b[0m\u001b[1;33m\u001b[0m\u001b[0m\n\u001b[0m\u001b[0;32m    242\u001b[0m \u001b[1;33m\u001b[0m\u001b[0m\n\u001b[0;32m    243\u001b[0m \u001b[1;32mdef\u001b[0m \u001b[0mfinditer\u001b[0m\u001b[1;33m(\u001b[0m\u001b[0mpattern\u001b[0m\u001b[1;33m,\u001b[0m \u001b[0mstring\u001b[0m\u001b[1;33m,\u001b[0m \u001b[0mflags\u001b[0m\u001b[1;33m=\u001b[0m\u001b[1;36m0\u001b[0m\u001b[1;33m)\u001b[0m\u001b[1;33m:\u001b[0m\u001b[1;33m\u001b[0m\u001b[1;33m\u001b[0m\u001b[0m\n",
      "\u001b[1;31mTypeError\u001b[0m: expected string or bytes-like object"
     ]
    }
   ],
   "source": [
    "emails = re.findall(r\"[a-z0-9\\.\\-+_]+@[a-z0-9\\.\\-+_]+\\.[a-z]+\", a)\n",
    "print (emails)\n"
   ]
  },
  {
   "cell_type": "code",
   "execution_count": 19,
   "id": "photographic-uncertainty",
   "metadata": {},
   "outputs": [],
   "source": [
    "import re\n",
    "inputfile = open(\"input.txt\",\"r\")\n",
    "allText = inputfile.readlines()\n",
    "def listToString(a):\n",
    "    string = \"\"\n",
    "    for text in allText:\n",
    "        string += text\n",
    "    return string"
   ]
  },
  {
   "cell_type": "code",
   "execution_count": 20,
   "id": "hidden-promotion",
   "metadata": {},
   "outputs": [
    {
     "name": "stdout",
     "output_type": "stream",
     "text": [
      "Aqfer offers the next generation enterprise data platform solution that enables\n",
      "companies to get to the truth about their customers and their data.\n",
      "Available positions:\n",
      "Product Developer - product@aqfer.com\n",
      "Mail us to info@aqfer.com to know more.\n",
      "Contact us at info@aqfer.com\n",
      "Visit us @ www.aqfer.com\n",
      "\n"
     ]
    }
   ],
   "source": [
    "import re\n",
    "inputfile = open(\"input.txt\",\"r\")\n",
    "allText = inputfile.readlines()\n",
    "def listToString(a):\n",
    "    allWords = \"\"\n",
    "    for text in allText:\n",
    "        allWords += text\n",
    "    return allWords\n",
    "wholeText = listToString(allText)\n",
    "print(wholeText)"
   ]
  },
  {
   "cell_type": "code",
   "execution_count": 21,
   "id": "gothic-identification",
   "metadata": {},
   "outputs": [],
   "source": [
    "import re\n",
    "inputfile = open(\"input.txt\",\"r\")\n",
    "allText = inputfile.readlines()\n",
    "def listToString(a):\n",
    "    allWords = \"\"\n",
    "    for text in allText:\n",
    "        allWords += text\n",
    "    return allWords\n",
    "wholeText = listToString(allText)\n",
    "\n",
    "emails = re.findall(r\"[a-z0-9\\.\\-+_]+@[a-z0-9\\.\\-+_]+\\.[a-z]+\", wholeText)\n"
   ]
  },
  {
   "cell_type": "code",
   "execution_count": 22,
   "id": "inclusive-shame",
   "metadata": {},
   "outputs": [
    {
     "name": "stdout",
     "output_type": "stream",
     "text": [
      "['product@aqfer.com', 'info@aqfer.com', 'info@aqfer.com']\n"
     ]
    }
   ],
   "source": [
    "import re\n",
    "inputfile = open(\"input.txt\",\"r\")\n",
    "allText = inputfile.readlines()\n",
    "def listToString(a):\n",
    "    allWords = \"\"\n",
    "    for text in allText:\n",
    "        allWords += text\n",
    "    return allWords\n",
    "wholeText = listToString(allText)\n",
    "\n",
    "emails = re.findall(r\"[a-z0-9\\.\\-+_]+@[a-z0-9\\.\\-+_]+\\.[a-z]+\", wholeText)\n",
    "print(emails)"
   ]
  },
  {
   "cell_type": "code",
   "execution_count": 23,
   "id": "composed-sucking",
   "metadata": {},
   "outputs": [
    {
     "name": "stdout",
     "output_type": "stream",
     "text": [
      "Aqfer offers the next generation enterprise data platform solution that enables\n",
      "companies to get to the truth about their customers and their data.\n",
      "Available positions:\n",
      "Product Developer - product@aqfer.com\n",
      "Mail us to info@aqfer.com to know more.\n",
      "Contact us at info@aqfer.com\n",
      "Visit us @ www.aqfer.com\n",
      "\n"
     ]
    }
   ],
   "source": [
    "import re\n",
    "inputfile = open(\"input.txt\",\"r\")\n",
    "allText = inputfile.readlines()\n",
    "def listToString(a):\n",
    "    allWords = \"\"\n",
    "    for text in allText:\n",
    "        allWords += text\n",
    "    return allWords\n",
    "wholeText = listToString(allText)\n",
    "\n",
    "emailsList = re.findall(r\"[a-z0-9\\.\\-+_]+@[a-z0-9\\.\\-+_]+\\.[a-z]+\", wholeText)\n",
    "emails = listToString(emailsList)\n",
    "print(emails)"
   ]
  },
  {
   "cell_type": "code",
   "execution_count": 24,
   "id": "scheduled-category",
   "metadata": {},
   "outputs": [
    {
     "name": "stdout",
     "output_type": "stream",
     "text": [
      "<class 'list'>\n"
     ]
    }
   ],
   "source": [
    "import re\n",
    "inputfile = open(\"input.txt\",\"r\")\n",
    "allText = inputfile.readlines()\n",
    "def listToString(a):\n",
    "    allWords = \"\"\n",
    "    for text in allText:\n",
    "        allWords += text\n",
    "    return allWords\n",
    "wholeText = listToString(allText)\n",
    "\n",
    "emailsList = re.findall(r\"[a-z0-9\\.\\-+_]+@[a-z0-9\\.\\-+_]+\\.[a-z]+\", wholeText)\n",
    "\n",
    "print(type(emailsList))"
   ]
  },
  {
   "cell_type": "code",
   "execution_count": 26,
   "id": "decreased-transportation",
   "metadata": {},
   "outputs": [
    {
     "name": "stdout",
     "output_type": "stream",
     "text": [
      "<class 'list'>\n",
      "Aqfer offers the next generation enterprise data platform solution that enables\n",
      "companies to get to the truth about their customers and their data.\n",
      "Available positions:\n",
      "Product Developer - product@aqfer.com\n",
      "Mail us to info@aqfer.com to know more.\n",
      "Contact us at info@aqfer.com\n",
      "Visit us @ www.aqfer.com\n",
      "\n"
     ]
    }
   ],
   "source": [
    "import re\n",
    "inputfile = open(\"input.txt\",\"r\")\n",
    "allText = inputfile.readlines()\n",
    "def listToString(a):\n",
    "    allWords = \"\"\n",
    "    for text in allText:\n",
    "        allWords += text\n",
    "    return allWords\n",
    "wholeText = listToString(allText)\n",
    "\n",
    "emailsList = re.findall(r\"[a-z0-9\\.\\-+_]+@[a-z0-9\\.\\-+_]+\\.[a-z]+\", wholeText)\n",
    "\n",
    "print(type(emailsList))\n",
    "print(listToString(emailsList))"
   ]
  },
  {
   "cell_type": "code",
   "execution_count": 27,
   "id": "given-italy",
   "metadata": {},
   "outputs": [
    {
     "name": "stdout",
     "output_type": "stream",
     "text": [
      "<class 'list'>\n",
      "product@aqfer.cominfo@aqfer.cominfo@aqfer.com\n"
     ]
    }
   ],
   "source": [
    "import re\n",
    "inputfile = open(\"input.txt\",\"r\")\n",
    "allText = inputfile.readlines()\n",
    "def listToString(a):\n",
    "    allWords = \"\"\n",
    "    for text in a:\n",
    "        allWords += text\n",
    "    return allWords\n",
    "wholeText = listToString(allText)\n",
    "\n",
    "emailsList = re.findall(r\"[a-z0-9\\.\\-+_]+@[a-z0-9\\.\\-+_]+\\.[a-z]+\", wholeText)\n",
    "\n",
    "print(type(emailsList))\n",
    "print(listToString(emailsList))"
   ]
  },
  {
   "cell_type": "code",
   "execution_count": 28,
   "id": "convenient-specification",
   "metadata": {},
   "outputs": [
    {
     "ename": "IndentationError",
     "evalue": "expected an indented block (<ipython-input-28-2a2b0f8c14e8>, line 5)",
     "output_type": "error",
     "traceback": [
      "\u001b[1;36m  File \u001b[1;32m\"<ipython-input-28-2a2b0f8c14e8>\"\u001b[1;36m, line \u001b[1;32m5\u001b[0m\n\u001b[1;33m    allWords = \"\"\u001b[0m\n\u001b[1;37m    ^\u001b[0m\n\u001b[1;31mIndentationError\u001b[0m\u001b[1;31m:\u001b[0m expected an indented block\n"
     ]
    }
   ],
   "source": [
    "    import re\n",
    "inputfile = open(\"input.txt\",\"r\")\n",
    "allText = inputfile.readlines()\n",
    "def listToString(a):\n",
    "    allWords = \"\"\n",
    "    for text in a:\n",
    "        allWords += text\n",
    "    return allWords\n",
    "wholeText = listToString(allText)\n",
    "\n",
    "emailsList = re.findall(r\"[a-z0-9\\.\\-+_]+@[a-z0-9\\.\\-+_]+\\.[a-z]+\", wholeText)\n",
    "\n",
    "def mailsToString(a):\n",
    "    allWords = \"\"\n",
    "    for text in a:\n",
    "        allWords += text+\"\\n\"\n",
    "    return allWords\n",
    "print(mailsToString(emailsList))"
   ]
  },
  {
   "cell_type": "code",
   "execution_count": 29,
   "id": "valuable-adams",
   "metadata": {},
   "outputs": [
    {
     "name": "stdout",
     "output_type": "stream",
     "text": [
      "Please contact us at contact@tutorialspoint.com for further information. You can also give feedbacl at feedback@tp.com\n",
      "Please contact us at contact@tutorialspoint.com for further information. You can also give feedbacl at feedback@tp.com\n",
      "Please contact us at contact@tutorialspoint.com for further information. You can also give feedbacl at feedback@tp.com\n",
      "\n"
     ]
    }
   ],
   "source": [
    "import re\n",
    "inputfile = open(\"input.txt\",\"r\")\n",
    "allText = inputfile.readlines()\n",
    "def listToString(a):\n",
    "    allWords = \"\"\n",
    "    for text in a:\n",
    "        allWords += text\n",
    "    return allWords\n",
    "wholeText = listToString(allText)\n",
    "\n",
    "emailsList = re.findall(r\"[a-z0-9\\.\\-+_]+@[a-z0-9\\.\\-+_]+\\.[a-z]+\", wholeText)\n",
    "\n",
    "def mailsToString(a):\n",
    "    allMails = \"\"\n",
    "    for mails in a:\n",
    "        allMails += text+\"\\n\"\n",
    "    return allMails\n",
    "print(mailsToString(emailsList))"
   ]
  },
  {
   "cell_type": "code",
   "execution_count": 31,
   "id": "applied-flush",
   "metadata": {},
   "outputs": [
    {
     "name": "stdout",
     "output_type": "stream",
     "text": [
      "['product@aqfer.com', 'info@aqfer.com', 'info@aqfer.com']\n",
      "product@aqfer.com\n",
      "info@aqfer.com\n",
      "info@aqfer.com\n",
      "\n"
     ]
    }
   ],
   "source": [
    "import re\n",
    "inputfile = open(\"input.txt\",\"r\")\n",
    "allText = inputfile.readlines()\n",
    "def listToString(a):\n",
    "    allWords = \"\"\n",
    "    for text in a:\n",
    "        allWords += text\n",
    "    return allWords\n",
    "wholeText = listToString(allText)\n",
    "\n",
    "emailsList = re.findall(r\"[a-z0-9\\.\\-+_]+@[a-z0-9\\.\\-+_]+\\.[a-z]+\", wholeText)\n",
    "print(emailsList)\n",
    "def mailsToString(a):\n",
    "    allMails = \"\"\n",
    "    for mails in a:\n",
    "        allMails += mails+\"\\n\"\n",
    "    return allMails\n",
    "print(mailsToString(emailsList))"
   ]
  },
  {
   "cell_type": "code",
   "execution_count": 32,
   "id": "vietnamese-gallery",
   "metadata": {},
   "outputs": [
    {
     "name": "stdout",
     "output_type": "stream",
     "text": [
      "product@aqfer.com\n",
      "info@aqfer.com\n",
      "info@aqfer.com\n",
      "\n"
     ]
    }
   ],
   "source": [
    "import re\n",
    "inputfile = open(\"input.txt\",\"r\")\n",
    "allText = inputfile.readlines()\n",
    "def listToString(a):\n",
    "    allWords = \"\"\n",
    "    for text in a:\n",
    "        allWords += text\n",
    "    return allWords\n",
    "wholeText = listToString(allText)\n",
    "emailsList = re.findall(r\"[a-z0-9\\.\\-+_]+@[a-z0-9\\.\\-+_]+\\.[a-z]+\", wholeText)\n",
    "def mailsToString(a):\n",
    "    allMails = \"\"\n",
    "    for mails in a:\n",
    "        allMails += mails+\"\\n\"\n",
    "    return allMails\n",
    "print(mailsToString(emailsList))"
   ]
  },
  {
   "cell_type": "code",
   "execution_count": null,
   "id": "shared-colony",
   "metadata": {},
   "outputs": [],
   "source": []
  }
 ],
 "metadata": {
  "kernelspec": {
   "display_name": "Python 3",
   "language": "python",
   "name": "python3"
  },
  "language_info": {
   "codemirror_mode": {
    "name": "ipython",
    "version": 3
   },
   "file_extension": ".py",
   "mimetype": "text/x-python",
   "name": "python",
   "nbconvert_exporter": "python",
   "pygments_lexer": "ipython3",
   "version": "3.8.3"
  }
 },
 "nbformat": 4,
 "nbformat_minor": 5
}
